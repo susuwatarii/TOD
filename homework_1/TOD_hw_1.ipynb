{
 "cells": [
  {
   "cell_type": "markdown",
   "metadata": {},
   "source": [
    "# Numpy"
   ]
  },
  {
   "cell_type": "markdown",
   "metadata": {},
   "source": [
    "Материалы:\n",
    "* Макрушин С.В. \"Лекция 1: Библиотека Numpy\"\n",
    "* https://numpy.org/doc/stable/user/index.html\n",
    "* https://numpy.org/doc/stable/reference/index.html"
   ]
  },
  {
   "cell_type": "markdown",
   "metadata": {},
   "source": [
    "## Задачи для совместного разбора"
   ]
  },
  {
   "cell_type": "code",
   "execution_count": 2,
   "metadata": {},
   "outputs": [],
   "source": [
    "import numpy as np"
   ]
  },
  {
   "cell_type": "markdown",
   "metadata": {},
   "source": [
    "1. Сгенерировать двухмерный массив `arr` размерности (4, 7), состоящий из случайных действительных чисел, равномерно распределенных в диапазоне от 0 до 20. Нормализовать значения массива с помощью преобразования вида  $𝑎𝑥+𝑏$  так, что после нормализации максимальный элемент масcива будет равен 1.0, минимальный 0.0"
   ]
  },
  {
   "cell_type": "code",
   "execution_count": 3,
   "metadata": {},
   "outputs": [
    {
     "name": "stdout",
     "output_type": "stream",
     "text": [
      "[[17.14473721  9.74800647  1.15684211  9.24020872  6.1811946   3.09913559\n",
      "   8.69279385]\n",
      " [ 5.66879585  5.37208572 18.54379663  1.84920229 17.09364244  6.79148045\n",
      "   4.37136308]\n",
      " [19.55803259 17.36249216  2.89625499 14.2042687   5.62692844  7.28187216\n",
      "  14.56998605]\n",
      " [15.60224438  0.16674668  0.4241622   4.58513149 16.93589719  1.71538786\n",
      "  10.91395517]]\n",
      "\n",
      "\n",
      "нормализованный массив: [[0.87554743 0.49410131 0.05105878 0.46791441 0.31016241 0.15122199\n",
      "  0.43968446]\n",
      " [0.28373823 0.26843702 0.9476963  0.08676349 0.87291249 0.34163458\n",
      "  0.2168302 ]\n",
      " [1.         0.88677696 0.14075953 0.72390877 0.28157915 0.36692386\n",
      "  0.74276866]\n",
      " [0.79600176 0.         0.0132748  0.22785414 0.86477764 0.07986274\n",
      "  0.55422877]]\n"
     ]
    }
   ],
   "source": [
    "arr = np.random.uniform(0, 20, size=(4, 7)) \n",
    "# low: float or array_like of floats, default = 0\n",
    "# high: float or array_like of floats, default = 1.0\n",
    "# the high limit may be included in returned array due to floating-point rounding\n",
    "# size: int or tuple of ints, default = None\n",
    "print(arr)\n",
    "\n",
    "a = 1/(arr.max()-arr.min())\n",
    "b = -arr.min() * a\n",
    "arr_norm = a * arr + b\n",
    "\n",
    "print(f'\\n\\nнормализованный массив: {arr_norm}')"
   ]
  },
  {
   "cell_type": "markdown",
   "metadata": {},
   "source": [
    "2. Создать матрицу 8 на 10 из случайных целых (используя модуль `numpy.random`) чисел из диапозона от 0 до 10 и найти в ней строку (ее индекс и вывести саму строку), в которой сумма значений минимальна."
   ]
  },
  {
   "cell_type": "code",
   "execution_count": 4,
   "metadata": {},
   "outputs": [
    {
     "name": "stdout",
     "output_type": "stream",
     "text": [
      "[[7 1 4 2 0 2 4 1 5 4]\n",
      " [0 6 8 0 8 4 1 4 7 2]\n",
      " [6 2 9 6 1 1 9 1 8 0]\n",
      " [4 9 6 9 7 2 4 3 7 0]\n",
      " [0 9 7 2 7 8 6 3 7 8]\n",
      " [5 2 1 0 8 9 6 6 0 0]\n",
      " [2 1 3 1 9 8 5 6 6 5]\n",
      " [9 1 6 5 5 2 5 2 5 2]]\n",
      "\n",
      " sum_list\n",
      "[30, 40, 43, 51, 57, 37, 46, 42]\n",
      "\n",
      " row 0 : [7 1 4 2 0 2 4 1 5 4]\n"
     ]
    }
   ],
   "source": [
    "# 1 вариант решения / генератор списков\n",
    "arr = np.random.randint(0, 10, size=(8, 10))  # [8,10)\n",
    "print(arr)\n",
    "\n",
    "sum_list = [sum(i) for i in arr]\n",
    "print(f'\\n sum_list\\n{sum_list}')\n",
    "\n",
    "index = sum_list.index(min(sum_list))\n",
    "print(f'\\n row {index} : {arr[index]}')"
   ]
  },
  {
   "cell_type": "code",
   "execution_count": 5,
   "metadata": {},
   "outputs": [
    {
     "name": "stdout",
     "output_type": "stream",
     "text": [
      "[[7 1 5 3 3 9 4 6 7 6]\n",
      " [3 7 7 4 2 2 7 1 4 3]\n",
      " [6 5 6 7 3 0 5 9 7 7]\n",
      " [0 1 8 7 0 0 6 1 8 8]\n",
      " [8 0 4 6 8 1 4 7 9 9]\n",
      " [9 2 4 5 3 8 7 1 0 0]\n",
      " [3 6 9 1 8 3 2 4 4 7]\n",
      " [8 2 6 9 5 8 6 5 2 6]]\n",
      "\n",
      " row 3 : [0 1 8 7 0 0 6 1 8 8]\n"
     ]
    }
   ],
   "source": [
    "# 2 вариант решения / numpy\n",
    "arr = np.random.randint(0, 10, size=(8, 10))  # [8,10)\n",
    "print(arr)\n",
    "\n",
    "index = np.argmin(np.sum(arr, axis=1))\n",
    "# argmin - only the first occurence of min elem is returned\n",
    "print(f'\\n row {index} : {arr[index]}') "
   ]
  },
  {
   "cell_type": "markdown",
   "metadata": {},
   "source": [
    "3. Найти евклидово расстояние между двумя одномерными векторами одинаковой размерности."
   ]
  },
  {
   "cell_type": "code",
   "execution_count": 6,
   "metadata": {
    "scrolled": true
   },
   "outputs": [
    {
     "name": "stdout",
     "output_type": "stream",
     "text": [
      "вектор 1 : [4 0 0 0 4]\n",
      "вектор 2 : [1 2 0 3 1]\n",
      "евклидово расстояние : 5.5677643628300215\n"
     ]
    }
   ],
   "source": [
    "vect1 = np.random.randint(5, size=(5))\n",
    "vect2 = np.random.randint(0, 5, 5)\n",
    "print(f'вектор 1 : {vect1}\\nвектор 2 : {vect2}')\n",
    "\n",
    "# dist(A,B) = ((Xa-Xb)^2 + (Ya-Yb)^2)^0.5\n",
    "# norm:\n",
    "# x = {x1,x2,x3,x4...}\n",
    "# |x|=(x1^2+x2^2+x3^2+...)^0.5\n",
    "print(f'евклидово расстояние : {np.linalg.norm(vect1 - vect2)}')"
   ]
  },
  {
   "cell_type": "markdown",
   "metadata": {},
   "source": [
    "4. Решить матричное уравнение `A*X*B=-C` - найти матрицу `X`. Где `A = [[-1, 2, 4], [-3, 1, 2], [-3, 0, 1]]`, `B=[[3, -1], [2, 1]]`, `C=[[7, 21], [11, 8], [8, 4]]`."
   ]
  },
  {
   "cell_type": "code",
   "execution_count": 7,
   "metadata": {},
   "outputs": [
    {
     "name": "stdout",
     "output_type": "stream",
     "text": [
      "A\n",
      "[[-1  2  4]\n",
      " [-3  1  2]\n",
      " [-3  0  1]]\n",
      "B\n",
      "[[ 3 -1]\n",
      " [ 2  1]]\n",
      "C\n",
      "[[ 7 21]\n",
      " [11  8]\n",
      " [ 8  4]] \n",
      "\n",
      "X\n",
      "[[ 1.00000000e+00  1.11022302e-15]\n",
      " [-2.00000000e+00  1.00000000e+00]\n",
      " [ 3.00000000e+00 -4.00000000e+00]]\n"
     ]
    }
   ],
   "source": [
    "A = np.array([[-1, 2, 4], [-3, 1, 2], [-3, 0, 1]])\n",
    "B = np.array([[3, -1], [2, 1]])\n",
    "C = np.array([[7, 21], [11, 8], [8, 4]])\n",
    "\n",
    "# A*X*B=-C\n",
    "# X=A^-1*(-C)*B^-1\n",
    "X = np.linalg.inv(A) @ (-C) @ np.linalg.inv(B) # inv - iverted matrix\n",
    "print(f'A\\n{A}\\nB\\n{B}\\nC\\n{C} ')\n",
    "print(f'\\nX\\n{X}')\n",
    "\n",
    "# изменяем тип данных в Х на int: \n",
    "#X = X.astype(int)\n",
    "#print(X)"
   ]
  },
  {
   "cell_type": "markdown",
   "metadata": {},
   "source": [
    "## Лабораторная работа №1"
   ]
  },
  {
   "cell_type": "markdown",
   "metadata": {},
   "source": [
    "Замечание: при решении данных задач не подразумевается использования циклов или генераторов Python, если в задании не сказано обратного. Решение должно опираться на использования функционала библиотеки `numpy`."
   ]
  },
  {
   "cell_type": "markdown",
   "metadata": {},
   "source": [
    "### в решении нумерация (столбцов, строк итд) всегда и везде с 0"
   ]
  },
  {
   "cell_type": "markdown",
   "metadata": {},
   "source": [
    "1. Файл `minutes_n_ingredients.csv` содержит информацию об идентификаторе рецепта, времени его выполнения в минутах и количестве необходимых ингредиентов. Считайте данные из этого файла в виде массива `numpy` типа `int32`, используя `np.loadtxt`. Выведите на экран первые 5 строк массива."
   ]
  },
  {
   "cell_type": "code",
   "execution_count": 8,
   "metadata": {},
   "outputs": [],
   "source": [
    "import numpy as np"
   ]
  },
  {
   "cell_type": "code",
   "execution_count": 9,
   "metadata": {},
   "outputs": [
    {
     "name": "stdout",
     "output_type": "stream",
     "text": [
      "[[127244     60     16]\n",
      " [ 23891     25      7]\n",
      " [ 94746     10      6]\n",
      " [ 67660      5      6]\n",
      " [157911     60     14]]\n"
     ]
    }
   ],
   "source": [
    "arr2 = np.loadtxt('minutes_n_ingredients.csv', delimiter=',', dtype=np.int32, skiprows=1)\n",
    "print(arr2[:5])\n",
    "# id, minutes, n_ingredients\n",
    "arr = np.copy(arr2)"
   ]
  },
  {
   "cell_type": "markdown",
   "metadata": {},
   "source": [
    "2. Вычислите среднее значение, минимум, максимум и медиану по каждому из столбцов, кроме первого."
   ]
  },
  {
   "cell_type": "code",
   "execution_count": 10,
   "metadata": {},
   "outputs": [
    {
     "name": "stdout",
     "output_type": "stream",
     "text": [
      "индексы столбцов и строк начинаются с 0\n",
      "\n",
      " среднее  \n",
      "столбец 1 : 21601.00169\n",
      "столбец 2 : 9.05528\n",
      "\n",
      " минимум  \n",
      "столбец 1 : 0\n",
      "столбец 2 : 1\n",
      "\n",
      " максимум \n",
      "столбец 1 : 2147483647\n",
      "столбец 2 : 39\n",
      "\n",
      " медиана  \n",
      "столбец 1 : 40.0\n",
      "столбец 2 : 9.0\n"
     ]
    }
   ],
   "source": [
    "print('индексы столбцов и строк начинаются с 0')\n",
    "\n",
    "print(f'\\n среднее  \\nстолбец 1 : {np.mean(arr2[:,1], axis=0)}\\nстолбец 2 : {np.mean(arr2[:,2], axis=0)}')\n",
    "print(f'\\n минимум  \\nстолбец 1 : {np.min(arr2[:,1], axis=0)}\\nстолбец 2 : {np.min(arr2[:,2], axis=0)}')\n",
    "print(f'\\n максимум \\nстолбец 1 : {np.max(arr2[:,1], axis=0)}\\nстолбец 2 : {np.max(arr2[:,2], axis=0)}')\n",
    "print(f'\\n медиана  \\nстолбец 1 : {np.median(arr2[:,1], axis=0)}\\nстолбец 2 : {np.median(arr2[:,2], axis=0)}')  # половина чисел больше, половина меньше"
   ]
  },
  {
   "cell_type": "markdown",
   "metadata": {},
   "source": [
    "3. Ограничьте сверху значения продолжительности выполнения рецепта значением квантиля $q_{0.75}$. "
   ]
  },
  {
   "cell_type": "code",
   "execution_count": 11,
   "metadata": {},
   "outputs": [
    {
     "name": "stdout",
     "output_type": "stream",
     "text": [
      "значение квантиля q0.75 : 65.0\n",
      "[[127244     60     16]\n",
      " [ 23891     25      7]\n",
      " [ 94746     10      6]\n",
      " ...\n",
      " [498432     65     15]\n",
      " [370915      5      4]\n",
      " [ 81993     65     14]]\n"
     ]
    }
   ],
   "source": [
    "# находим значение q0.75\n",
    "quantile_75 = np.quantile(arr2[:,1], 0.75)\n",
    "print(f'значение квантиля q0.75 : {quantile_75}')\n",
    "\n",
    "# все значения больше значения квантиля = 65 заменим на 65\n",
    "# numpy.where(condition, [x, y, ]/) - когда conditon True - x, иначе y\n",
    "arr2[:, 1] = np.where(arr2[:, 1] > quantile_75, quantile_75, arr2[:, 1])  \n",
    "print(arr2)"
   ]
  },
  {
   "cell_type": "markdown",
   "metadata": {},
   "source": [
    "4. Посчитайте, для скольких рецептов указана продолжительность, равная нулю. Замените для таких строк значение в данном столбце на 1."
   ]
  },
  {
   "cell_type": "code",
   "execution_count": 12,
   "metadata": {},
   "outputs": [
    {
     "name": "stdout",
     "output_type": "stream",
     "text": [
      "индексы строк с 0: [  411   691   720   728   793   840   964  1660  1670  1709  1740  1805\n",
      "  1931  2228  2269  2404  2662  2877  3061  3160  3317  3620  3686  3836\n",
      "  3914  3944  4057  4163  4641  4696  4785  5017  5079  5398  5447  5583\n",
      "  5623  5858  6251  6259  6401  6583  6676  6794  7087  7178  7965  8048\n",
      "  8091  8094  8106  8390  8693  8792  8879  9239  9249  9705  9953  9954\n",
      "  9968 10054 10124 10397 10486 10606 11274 11776 11911 12131 12424 12445\n",
      " 12599 12806 12905 13033 13711 14161 14380 14587 14918 15205 15275 15410\n",
      " 15479 15620 15974 16316 16479 16548 16556 16610 16987 17030 17046 17099\n",
      " 17240 17354 17458 17791 17922 18333 18354 18558 18628 18716 19040 19114\n",
      " 19175 19355 19785 19899 20195 20239 20490 21054 21438 21627 21654 21849\n",
      " 21907 21981 22322 22858 22902 23359 23401 23764 23837 24005 24208 24228\n",
      " 24537 24673 24815 24824 24988 25105 25198 25306 25548 25838 26374 26394\n",
      " 26497 26596 26924 27180 27192 27289 27990 28054 28278 28644 28682 28880\n",
      " 29302 29308 29346 29554 29588 29737 30122 30176 30203 30361 30546 30883\n",
      " 30890 31301 31367 31447 31623 31653 32534 32868 32902 34091 34494 34532\n",
      " 34809 34971 35178 35619 35643 36162 36588 36641 36763 36848 36854 36871\n",
      " 37876 37914 38727 38911 38963 38982 39020 39218 39317 39477 40003 40059\n",
      " 40198 40381 40669 40774 40799 40828 40941 41170 41676 42263 42365 42424\n",
      " 42562 42786 42869 43272 43545 44183 44343 44654 45068 45442 45582 46774\n",
      " 46783 47146 47217 47555 47568 47810 47897 48031 48172 48198 48203 48271\n",
      " 48434 48807 48889 48918 49194 49499 49632 49679 49685 49689 49714 49996\n",
      " 50224 50459 50474 50574 50717 51122 51301 51644 51739 51775 51928 52001\n",
      " 52236 52290 52368 52587 52641 53215 53278 53284 54065 54252 54263 55055\n",
      " 55129 55172 55364 55470 55503 55577 56318 56485 56601 59422 59651 59785\n",
      " 59876 59884 59911 59947 60027 60106 60526 60591 60673 60963 61268 61298\n",
      " 61554 61638 62076 62102 62108 62170 62257 62287 63133 63297 63427 63495\n",
      " 63575 63898 64030 64244 64266 64585 64598 64607 64657 64683 64773 64781\n",
      " 64878 65018 65096 65248 65534 65621 65954 65980 66044 66280 66653 66841\n",
      " 67076 67084 67258 67743 67767 67892 67942 68214 68667 68779 68979 69401\n",
      " 69552 69620 70135 70158 70448 70587 71255 71275 71944 72036 72242 72287\n",
      " 72425 72774 73357 73670 73761 73991 74318 74872 74927 75015 75027 75060\n",
      " 75063 75534 75566 75609 75770 75817 76203 76594 77269 77502 77530 77944\n",
      " 79503 79620 79937 79945 80137 80282 80309 80325 80363 80631 81156 81428\n",
      " 81457 81947 81981 82286 82340 82501 82615 82626 82911 82962 83030 83103\n",
      " 84607 84664 84772 84990 85128 85891 86891 87624 87828 88227 88338 88826\n",
      " 88864 88914 89061 89216 89329 89404 89557 89713 89806 89843 90187 90268\n",
      " 90466 90492 90659 90897 90905 90987 91113 91142 91213 91328 91589 92612\n",
      " 92998 93067 93481 93498 93628 93996 94318 94604 94620 94734 94747 94860\n",
      " 95176 95330 95401 95624 95666 95692 95951 96037 96669 96932 96970 97273\n",
      " 97389 97495 97786 97826 97989 98937 99054 99312 99383 99975 99985]\n",
      "рецептов с временем 0: 479\n",
      "\n",
      "[[127244     60     16]\n",
      " [ 23891     25      7]\n",
      " [ 94746     10      6]\n",
      " ...\n",
      " [498432     65     15]\n",
      " [370915      5      4]\n",
      " [ 81993     65     14]]\n"
     ]
    }
   ],
   "source": [
    "# id, minutes, n_ingredients\n",
    "\n",
    "# получим список номеров строк, где время = 0\n",
    "# where возвращает (array([номера строк], dtype= ...),)  \n",
    "# из полученного берем первый элемент, массив номеров строк\n",
    "zeros = np.where(arr2[:, 1] == 0)[0] \n",
    "print(f'индексы строк с 0: {zeros}')\n",
    "\n",
    "# подсчитаем количество рецептов с продолжительностью 0\n",
    "print(f'рецептов с временем 0: {len(zeros)}\\n')\n",
    "\n",
    "# заменим значения продолжительности на 1, где они равны нулю\n",
    "arr2[zeros, 1] = 1\n",
    "\n",
    "print(arr2)"
   ]
  },
  {
   "cell_type": "markdown",
   "metadata": {},
   "source": [
    "5. Посчитайте, сколько уникальных рецептов находится в датасете."
   ]
  },
  {
   "cell_type": "code",
   "execution_count": 13,
   "metadata": {},
   "outputs": [
    {
     "name": "stdout",
     "output_type": "stream",
     "text": [
      "['60_16' '25_7' '10_6' ... '65_15' '5_4' '65_14']\n",
      "1135\n",
      "100000\n"
     ]
    }
   ],
   "source": [
    "# способ 1\n",
    "# количество уникальных рецептов - убираем дубли по (времени, кол-ву ингр)\n",
    "# arr2 =arr\n",
    "\n",
    "arr12 = np.array([f\"{x[1]}_{x[2]}\" for x in arr2])\n",
    "print(arr12)\n",
    "\n",
    "# находим уникальные рецепты\n",
    "uniq_recipe = np.unique(arr12)\n",
    "\n",
    "print(len(uniq_recipe))\n",
    "print(len(arr2))"
   ]
  },
  {
   "cell_type": "code",
   "execution_count": 14,
   "metadata": {},
   "outputs": [
    {
     "name": "stdout",
     "output_type": "stream",
     "text": [
      "[[60 16]\n",
      " [25  7]\n",
      " [10  6]\n",
      " ...\n",
      " [65 15]\n",
      " [ 5  4]\n",
      " [65 14]]\n",
      "1135\n"
     ]
    }
   ],
   "source": [
    "# способ 2\n",
    "# попарное объединение элементов column_stack() аналог zip()\n",
    "arr12 = np.column_stack([arr2[:,1], arr2[:,2]])\n",
    "print(arr12)\n",
    "\n",
    "# список уникальных рецептов (убираем дубликаты)\n",
    "uniq_recipe = np.unique(arr12, axis=0)\n",
    "\n",
    "print(len(uniq_recipe))"
   ]
  },
  {
   "cell_type": "code",
   "execution_count": 15,
   "metadata": {},
   "outputs": [
    {
     "name": "stdout",
     "output_type": "stream",
     "text": [
      "[[  1   2   0]\n",
      " [  1   0   2]\n",
      " [ -1   2   0]\n",
      " [ -3   1   2]\n",
      " [ -3   0   1]\n",
      " [  0  10   1]\n",
      " [-30   0   1]\n",
      " [  1   2   0]\n",
      " [  1   0   2]\n",
      " [ -1   2   0]\n",
      " [ -3   1   2]\n",
      " [ -3   0   1]\n",
      " [  0  10   1]\n",
      " [-30   0   1]]\n",
      "[[ 0  1]\n",
      " [ 0  2]\n",
      " [ 1  2]\n",
      " [ 2  0]\n",
      " [10  1]]\n",
      "5\n"
     ]
    }
   ],
   "source": [
    "# проверка на маленьком массиве\n",
    "\n",
    "a = np.array([[1, 2, 0],[1, 0, 2],[-1, 2, 0], [-3, 1, 2], [-3, 0, 1],  [0, 10, 1], [-30, 0, 1], [1, 2, 0],[1, 0, 2],[-1, 2, 0], [-3, 1, 2], [-3, 0, 1],  [0, 10, 1], [-30, 0, 1]])\n",
    "print(a)\n",
    "\n",
    "arr12 = np.column_stack([a[:,1], a[:,2]])\n",
    "\n",
    "# находим уникальные рецепты\n",
    "uniq_recipe = np.unique(arr12, axis=0)\n",
    "print(uniq_recipe)\n",
    "print(len(uniq_recipe))"
   ]
  },
  {
   "cell_type": "markdown",
   "metadata": {},
   "source": [
    "6. Сколько и каких различных значений кол-ва ингредиентов присутвует в рецептах из датасета?"
   ]
  },
  {
   "cell_type": "code",
   "execution_count": 16,
   "metadata": {},
   "outputs": [
    {
     "name": "stdout",
     "output_type": "stream",
     "text": [
      "[ 1  2  3  4  5  6  7  8  9 10 11 12 13 14 15 16 17 18 19 20 21 22 23 24\n",
      " 25 26 27 28 29 30 31 32 33 34 35 37 39]\n",
      "37\n",
      "\n",
      "(array([ 1,  2,  3,  4,  5,  6,  7,  8,  9, 10, 11, 12, 13, 14, 15, 16, 17,\n",
      "       18, 19, 20, 21, 22, 23, 24, 25, 26, 27, 28, 29, 30, 31, 32, 33, 34,\n",
      "       35, 37, 39]), array([   13,   926,  2895,  5515,  7913,  9376, 10628, 10951, 10585,\n",
      "        9591,  8297,  6605,  4997,  3663,  2595,  1767,  1246,   790,\n",
      "         573,   376,   217,   161,   105,    69,    50,    28,    16,\n",
      "          16,    12,    12,     3,     1,     2,     1,     3,     1,\n",
      "           1], dtype=int64))\n"
     ]
    }
   ],
   "source": [
    "uniq_n_ingr = np.unique(arr2[:,2])  # список уникальных элем в 2 столбце\n",
    "print(uniq_n_ingr)\n",
    "print(len(uniq_n_ingr), end='\\n\\n')\n",
    "\n",
    "# количество вхождений каждого времени\n",
    "print(np.unique(arr2[:,2], return_counts=True))"
   ]
  },
  {
   "cell_type": "markdown",
   "metadata": {},
   "source": [
    "7. Создайте версию массива, содержащую информацию только о рецептах, состоящих не более чем из 5 ингредиентов."
   ]
  },
  {
   "cell_type": "code",
   "execution_count": 17,
   "metadata": {},
   "outputs": [
    {
     "name": "stdout",
     "output_type": "stream",
     "text": [
      "[False False False ... False  True False]\n",
      "\n",
      "[[446597     15      5]\n",
      " [204134      5      3]\n",
      " [ 25623      6      4]\n",
      " ...\n",
      " [ 52088     60      5]\n",
      " [128811     15      4]\n",
      " [370915      5      4]]\n",
      "\n",
      " проверим, что исходный массив не изменился\n",
      "[[127244     60     16]\n",
      " [ 23891     25      7]\n",
      " [ 94746     10      6]\n",
      " ...\n",
      " [498432     65     15]\n",
      " [370915      5      4]\n",
      " [ 81993     65     14]]\n"
     ]
    }
   ],
   "source": [
    "# способ 1\n",
    "# используем маску\n",
    "compare_mask = arr2[:, 2] <= 5\n",
    "\n",
    "arr2_copy = np.copy(arr2)\n",
    "filtered_arr2 = arr2_copy[compare_mask]\n",
    "\n",
    "print(compare_mask, end='\\n\\n')\n",
    "print(filtered_arr2, end='\\n\\n проверим, что исходный массив не изменился\\n')\n",
    "print(arr2)"
   ]
  },
  {
   "cell_type": "markdown",
   "metadata": {},
   "source": [
    "8. Для каждого рецепта посчитайте, сколько в среднем ингредиентов приходится на одну минуту рецепта. Найдите максимальное значение этой величины для всего датасета"
   ]
  },
  {
   "cell_type": "code",
   "execution_count": 18,
   "metadata": {},
   "outputs": [
    {
     "name": "stdout",
     "output_type": "stream",
     "text": [
      "[0.26666667 0.28       0.6        ... 0.23076923 0.8        0.21538462]\n",
      "\n",
      "24.0\n",
      "\n",
      "  id,      mean time for 1 sec\n",
      "[[1.27244000e+05 2.66666667e-01]\n",
      " [2.38910000e+04 2.80000000e-01]\n",
      " [9.47460000e+04 6.00000000e-01]\n",
      " ...\n",
      " [4.98432000e+05 2.30769231e-01]\n",
      " [3.70915000e+05 8.00000000e-01]\n",
      " [8.19930000e+04 2.15384615e-01]]\n"
     ]
    }
   ],
   "source": [
    "\n",
    "mean_arr = arr2[:,2] / arr2[:,1]\n",
    "print(mean_arr, end='\\n\\n')\n",
    "\n",
    "print(np.max(mean_arr), end='\\n\\n')\n",
    "\n",
    "id_mean_arr = np.column_stack((arr2[:,0], mean_arr))\n",
    "print('  id,      mean time for 1 sec')\n",
    "print(id_mean_arr)\n"
   ]
  },
  {
   "cell_type": "markdown",
   "metadata": {},
   "source": [
    "9. Вычислите среднее количество ингредиентов для топ-100 рецептов с наибольшей продолжительностью"
   ]
  },
  {
   "cell_type": "code",
   "execution_count": 19,
   "metadata": {},
   "outputs": [
    {
     "name": "stdout",
     "output_type": "stream",
     "text": [
      "[89843  1740 28278 ... 45368 45346 99999]\n",
      "\n",
      "[[81993    65    14]\n",
      " [78310    65    12]\n",
      " [60218    65    14]\n",
      " ...\n",
      " [ 3492     1     7]\n",
      " [ 6975     1     8]\n",
      " [ 4896     1    14]]\n",
      "\n",
      "среднее кол-во ингредиентов: 9.96\n"
     ]
    }
   ],
   "source": [
    "# получаем индексы для сортировки по первому столбцу \n",
    "sorted_ind = np.argsort(arr2[:, 1])\n",
    "print(sorted_ind, end='\\n\\n')\n",
    "\n",
    "# применяем индексы для сортировки массива по первому столбцу\n",
    "sorted_arr2 = arr2[sorted_ind]\n",
    "\n",
    "# перевернем массив, от большего к меньшему\n",
    "sorted_arr2 = sorted_arr2[::-1]\n",
    "print(sorted_arr2)\n",
    "print(f'\\nсреднее кол-во ингредиентов: {np.mean(sorted_arr2[:100,2])}')  # среднее для второго столбца для первых 100 элем"
   ]
  },
  {
   "cell_type": "markdown",
   "metadata": {},
   "source": [
    "10. Выберите случайным образом и выведите информацию о 10 различных рецептах"
   ]
  },
  {
   "cell_type": "code",
   "execution_count": 20,
   "metadata": {},
   "outputs": [
    {
     "name": "stdout",
     "output_type": "stream",
     "text": [
      "[[115224     25     13]\n",
      " [276123     60      7]\n",
      " [219781     65      4]\n",
      " [ 67269     45      7]\n",
      " [230004     45      6]\n",
      " [228075     65     11]\n",
      " [390145     40      7]\n",
      " [479016      5      7]\n",
      " [367085     55     14]\n",
      " [ 61753     60      9]]\n"
     ]
    }
   ],
   "source": [
    "# id это какие-то рандомные числа,совсем необязательно все от 0 до 100000\n",
    "# перемешиваем данные\n",
    "np.random.shuffle(arr2)\n",
    "\n",
    "# выбираем первые 10 рецептов\n",
    "print(arr2[:10])"
   ]
  },
  {
   "cell_type": "markdown",
   "metadata": {},
   "source": [
    "11. Выведите процент рецептов, кол-во ингредиентов в которых меньше среднего."
   ]
  },
  {
   "cell_type": "code",
   "execution_count": 21,
   "metadata": {},
   "outputs": [
    {
     "name": "stdout",
     "output_type": "stream",
     "text": [
      "58.802 %\n"
     ]
    }
   ],
   "source": [
    "# столбец с количеством ингредиентов\n",
    "n_ingredients = arr2[:, 2]\n",
    "\n",
    "# среднее количество ингредиентов\n",
    "mean_n_ingredients = np.mean(n_ingredients)\n",
    "\n",
    "# количество рецептов, у которых количество ингредиентов меньше среднего\n",
    "count_below_mean = np.sum(n_ingredients < mean_n_ingredients)\n",
    "#print(n_ingredients < mean_n_ingredients)  # -> [ True False  True ...  True  True  True]\n",
    "#print(sum([True, True, True, False]) # -> 3\n",
    "\n",
    "# процент\n",
    "print(f'{(count_below_mean / len(arr2)) * 100} %')"
   ]
  },
  {
   "cell_type": "markdown",
   "metadata": {},
   "source": [
    "12. Назовем \"простым\" такой рецепт, длительность выполнения которого не больше 20 минут и кол-во ингредиентов в котором не больше 5. Создайте версию датасета с дополнительным столбцом, значениями которого являются 1, если рецепт простой, и 0 в противном случае."
   ]
  },
  {
   "cell_type": "code",
   "execution_count": 22,
   "metadata": {},
   "outputs": [
    {
     "name": "stdout",
     "output_type": "stream",
     "text": [
      "[False False False ... False False False]\n",
      "[0 0 0 ... 0 0 0]\n",
      "\n",
      "[[115224     25     13      0]\n",
      " [276123     60      7      0]\n",
      " [219781     65      4      0]\n",
      " ...\n",
      " [ 41355     43     11      0]\n",
      " [324680     30      9      0]\n",
      " [314573     20      8      0]]\n"
     ]
    }
   ],
   "source": [
    "# доп столбец для  1 или 0\n",
    "simple = ((arr2[:, 1] <= 20) & (arr2[:, 2] <= 5))\n",
    "print(simple)\n",
    "print(simple.astype(int), end='\\n\\n')  # переведем это к виду 1 и 0\n",
    "\n",
    "# новый массив с 4 столбцами              hstack(arr1, arr2) - соединение по горизонтали\n",
    "new_arr2 = np.column_stack((arr2, simple))\n",
    "print(new_arr2)"
   ]
  },
  {
   "cell_type": "markdown",
   "metadata": {},
   "source": [
    "13. Выведите процент \"простых\" рецептов в датасете"
   ]
  },
  {
   "cell_type": "code",
   "execution_count": 23,
   "metadata": {},
   "outputs": [
    {
     "name": "stdout",
     "output_type": "stream",
     "text": [
      "9.552 %\n"
     ]
    }
   ],
   "source": [
    "# выделим столбец где указан тип рецепта \n",
    "simple = new_arr2[:,3]  # new_arr2 - с 4 столбцами, из 11)\n",
    "\n",
    "# количество простых рецептов\n",
    "count_simple = np.sum(simple)\n",
    "\n",
    "# процент простых\n",
    "print(f'{(count_simple / len(new_arr2)) * 100} %')\n"
   ]
  },
  {
   "cell_type": "markdown",
   "metadata": {},
   "source": [
    "14. Разделим рецепты на группы по следующему правилу. \n",
    "\n",
    "- Назовем рецепты короткими, если их продолжительность составляет менее 10 минут; \n",
    "- стандартными, если их продолжительность составляет более 10, но менее 20 минут; \n",
    "- длинными, если их продолжительность составляет не менее 20 минут. \n",
    "\n",
    "Создайте трехмерный массив, где нулевая ось отвечает за номер группы (короткий, стандартный или длинный рецепт), \n",
    "первая ось - за сам рецепт\n",
    "вторая ось - за характеристики рецепта. \n",
    "\n",
    "Выберите максимальное количество рецептов из каждой группы таким образом, чтобы было возможно сформировать трехмерный массив. \n",
    "\n",
    "Выведите форму полученного массива."
   ]
  },
  {
   "cell_type": "code",
   "execution_count": 24,
   "metadata": {},
   "outputs": [
    {
     "name": "stdout",
     "output_type": "stream",
     "text": [
      "форма массива (3, 7588, 3)\n",
      "[[[479016      5      7]\n",
      "  [348047      5      5]\n",
      "  [132222      5      6]\n",
      "  [156440      2      4]\n",
      "  [254208      5      7]\n",
      "  [359879      5      5]\n",
      "  [243898      3      8]\n",
      "  [  7975      2      7]\n",
      "  [484389      5      5]\n",
      "  [247042      5      4]]\n",
      "\n",
      " [[395585     10      7]\n",
      "  [140305     10      4]\n",
      "  [ 84257     15      5]\n",
      "  [306404     10      8]\n",
      "  [ 51921     15      9]\n",
      "  [112163     10      5]\n",
      "  [408686     15     14]\n",
      "  [ 16474     10      6]\n",
      "  [186734     19      8]\n",
      "  [ 72983     19     14]]\n",
      "\n",
      " [[115224     25     13]\n",
      "  [276123     60      7]\n",
      "  [219781     65      4]\n",
      "  [ 67269     45      7]\n",
      "  [230004     45      6]\n",
      "  [228075     65     11]\n",
      "  [390145     40      7]\n",
      "  [367085     55     14]\n",
      "  [ 61753     60      9]\n",
      "  [300821     50      9]]]\n",
      "\n"
     ]
    }
   ],
   "source": [
    "# разделим рецепты на группы\n",
    "short = arr2[arr2[:, 1] < 10]\n",
    "standard= arr2[(arr2[:, 1] >= 10) & (arr2[:, 1] < 20)]\n",
    "long = arr2[arr2[:, 1] >= 20]\n",
    "\n",
    "# для 1 оси размерность массива - мин значение из длин трех массивов\n",
    "axis_1 = min(len(long), len(standard),len(short))\n",
    "arr_3d = np.zeros((3, axis_1, 3), dtype=np.int32)\n",
    "\n",
    "# заполним \n",
    "arr_3d [0, :, :] = short[:axis_1]\n",
    "arr_3d [1, :, :] = standard[:axis_1]\n",
    "arr_3d [2, :, :] = long[:axis_1]\n",
    "\n",
    "print(f'форма массива {arr_3d.shape}')\n",
    "\n",
    "print(arr_3d[:,:10,:], end='\\n\\n')  # для 10 рецептов в каждой группе  (по оси 1)\n"
   ]
  },
  {
   "attachments": {
    "image-2.png": {
     "image/png": "[encoded data removed]"
    }
   },
   "cell_type": "markdown",
   "metadata": {},
   "source": [
    "![image-2.png](attachment:image-2.png)"
   ]
  },
  {
   "cell_type": "code",
   "execution_count": null,
   "metadata": {},
   "outputs": [],
   "source": []
  },
  {
   "cell_type": "code",
   "execution_count": null,
   "metadata": {},
   "outputs": [],
   "source": []
  },
  {
   "cell_type": "code",
   "execution_count": null,
   "metadata": {},
   "outputs": [],
   "source": []
  },
  {
   "cell_type": "code",
   "execution_count": null,
   "metadata": {},
   "outputs": [],
   "source": []
  }
 ],
 "metadata": {
  "kernelspec": {
   "display_name": "Python 3 (ipykernel)",
   "language": "python",
   "name": "python3"
  },
  "language_info": {
   "codemirror_mode": {
    "name": "ipython",
    "version": 3
   },
   "file_extension": ".py",
   "mimetype": "text/x-python",
   "name": "python",
   "nbconvert_exporter": "python",
   "pygments_lexer": "ipython3",
   "version": "3.11.5"
  }
 },
 "nbformat": 4,
 "nbformat_minor": 4
}
