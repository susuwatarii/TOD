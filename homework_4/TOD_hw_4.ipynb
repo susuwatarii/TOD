{
 "cells": [
  {
   "cell_type": "markdown",
   "metadata": {},
   "source": [
    "# Работа с Excel"
   ]
  },
  {
   "cell_type": "markdown",
   "metadata": {},
   "source": [
    "Материалы:\n",
    "* Макрушин С.В. Лекция 7: Работа с Excel\n",
    "* https://docs.xlwings.org/en/stable/quickstart.html\n",
    "* https://nbviewer.jupyter.org/github/pybokeh/jupyter_notebooks/blob/master/xlwings/Excel_Formatting.ipynb#search_text\n"
   ]
  },
  {
   "cell_type": "markdown",
   "metadata": {},
   "source": [
    "## Задачи для совместного разбора"
   ]
  },
  {
   "cell_type": "markdown",
   "metadata": {},
   "source": [
    "\n",
    "1. На листе \"Рецептура\" файла `себестоимостьА_в1.xlsx` для области \"Пшеничный хлеб\" рассчитать себестоимость всех видов продукции."
   ]
  },
  {
   "cell_type": "code",
   "execution_count": 42,
   "metadata": {},
   "outputs": [],
   "source": [
    "import xlwings as xw\n",
    "\n",
    "\n",
    "# Открываем файл Excel\n",
    "wb = xw.Book('себестоимостьА_в1.xlsx')\n",
    "\n",
    "# Выбираем лист \"Рецептура\"\n",
    "sheet = wb.sheets['Рецептура']\n"
   ]
  },
  {
   "cell_type": "code",
   "execution_count": 43,
   "metadata": {},
   "outputs": [],
   "source": [
    "# Получаем часть данных из листа \"Рецептура\"\n",
    "wh_bread = sheet.range('C7:O7').expand('down').value\n",
    "# заменяем Nan на 0\n",
    "wh_bread = [[i if isinstance(i, float) or isinstance(i, str) else 0.0  for i in bread] for bread in wh_bread]\n",
    "\n",
    "# Получаем данные из листа \"Рецептура\"   'Цена ресурсов, руб.'\n",
    "wh_bread_price = sheet.range('G14:O14').value"
   ]
  },
  {
   "cell_type": "code",
   "execution_count": 44,
   "metadata": {
    "scrolled": true
   },
   "outputs": [
    {
     "data": {
      "text/plain": [
       "[['Хлеб Венгерский',\n",
       "  0.4,\n",
       "  35.0,\n",
       "  50.0,\n",
       "  0.2,\n",
       "  0.4,\n",
       "  0.02,\n",
       "  0.02,\n",
       "  0.01,\n",
       "  0.005,\n",
       "  0.1,\n",
       "  0.0,\n",
       "  0.0],\n",
       " ['Хлеб \"Барбари\"',\n",
       "  0.25,\n",
       "  28.0,\n",
       "  40.0,\n",
       "  0.07,\n",
       "  0.25,\n",
       "  0.01,\n",
       "  0.06,\n",
       "  0.015,\n",
       "  0.0,\n",
       "  0.06,\n",
       "  0.05,\n",
       "  0.0],\n",
       " ['Багет парижский',\n",
       "  0.25,\n",
       "  35.0,\n",
       "  50.0,\n",
       "  0.12,\n",
       "  0.22,\n",
       "  0.005,\n",
       "  0.0,\n",
       "  0.009,\n",
       "  0.005,\n",
       "  0.0,\n",
       "  0.05,\n",
       "  0.03],\n",
       " ['Чиабатта',\n",
       "  0.25,\n",
       "  35.0,\n",
       "  50.0,\n",
       "  0.12,\n",
       "  0.23,\n",
       "  0.01,\n",
       "  0.0,\n",
       "  0.015,\n",
       "  0.0,\n",
       "  0.0,\n",
       "  0.0,\n",
       "  0.05]]"
      ]
     },
     "execution_count": 44,
     "metadata": {},
     "output_type": "execute_result"
    }
   ],
   "source": [
    "wh_bread"
   ]
  },
  {
   "cell_type": "code",
   "execution_count": 45,
   "metadata": {},
   "outputs": [
    {
     "name": "stdout",
     "output_type": "stream",
     "text": [
      "['Хлеб Венгерский', 123.75999999999999]\n",
      "['Хлеб \"Барбари\"', 82.92]\n",
      "['Багет парижский', 67.50500000000001]\n",
      "['Чиабатта', 72.49000000000001]\n"
     ]
    }
   ],
   "source": [
    "# находим себестоимость каждого хлеба\n",
    "cost_price = []\n",
    "for bread in wh_bread:\n",
    "    cost_price.append([bread[0], sum(x * y for x, y in zip(bread[4:], wh_bread_price[4:]))])\n",
    "    \n",
    "print(*cost_price, sep='\\n')\n",
    "    "
   ]
  },
  {
   "cell_type": "markdown",
   "metadata": {},
   "source": [
    "2. Результаты расчетов 1.1 сохранить в отдельном столбце области \"Пшеничный хлеб\""
   ]
  },
  {
   "cell_type": "code",
   "execution_count": 46,
   "metadata": {},
   "outputs": [],
   "source": [
    "sheet.range('P5').value = 'себестоимость'\n",
    "sheet.range('P7').options(transpose=True).value = [bread[1] for bread in cost_price]\n",
    "sheet.range('P5:P10').color = (0,255,0)  # закрасила ячейки зеленым"
   ]
  },
  {
   "cell_type": "markdown",
   "metadata": {},
   "source": [
    "3. Приблизить форматирование столбца, добавленного в задаче 2 к оформлению всей области."
   ]
  },
  {
   "cell_type": "code",
   "execution_count": null,
   "metadata": {},
   "outputs": [],
   "source": [
    "xw.sheets[0].activate()\n",
    "xw.Range('B3:T3').merge()\n",
    "xw.Range('T4:T6').merge()\n",
    "xw.Range('B3:T3').color = (255, 255, 0)\n",
    "xw.Range('T4:T6').color = (255, 192, 0)\n",
    "xw.Range('T7:T13').color = (255, 255, 167)\n",
    "xw.Range('B3:T3').HorizontalAlignment = xw.constants.HAlign.xlHAlignCenter  # Выравнивание текста по горизонтали\n",
    "xw.Range('B3:T3').VerticalAlignment = xw.constants.VAlign.xlVAlignCenter  # Выравнивание текста по вертикали\n",
    "xw.Range('T4:T6').HorizontalAlignment = xw.constants.HAlign.xlHAlignCenter  # Выравнивание текста по горизонтали\n",
    "xw.Range('T4:T6').VerticalAlignment = xw.constants.VAlign.xlVAlignCenter  # Выравнивание текста по вертикали\n",
    "xw.Range('T4:T6').api.Font.Color = xw.utils.rgb_to_int((255, 255, 255))  # Белый текст\n",
    "xw.Range('T4:T6').api.Font.Bold = True\n",
    "xw.Range('B3:T3').api.Font.Bold = True\n",
    "rng = xw.Range('T4:T13')\n",
    "rng.columns[0].column_width = len(rng.value[0])"
   ]
  },
  {
   "cell_type": "markdown",
   "metadata": {},
   "source": [
    "4. Выполнить 3 с помощью \"протягиваемых\" формул."
   ]
  },
  {
   "cell_type": "code",
   "execution_count": null,
   "metadata": {},
   "outputs": [],
   "source": []
  },
  {
   "cell_type": "markdown",
   "metadata": {},
   "source": [
    "## Лабораторная работа 7.1"
   ]
  },
  {
   "cell_type": "markdown",
   "metadata": {},
   "source": [
    "1. Загрузите данные из файлов `reviews_sample.csv` (__ЛР2__) и `recipes_sample.csv` (__ЛР5__) в виде `pd.DataFrame`. Обратите внимание на корректное считывание столбца(ов) с индексами. Оставьте в таблице с рецептами следующие столбцы: `id`, `name`, `minutes`, `submitted`, `description`, `n_ingredients`"
   ]
  },
  {
   "cell_type": "code",
   "execution_count": 57,
   "metadata": {},
   "outputs": [],
   "source": [
    "import pandas as pd"
   ]
  },
  {
   "cell_type": "code",
   "execution_count": 58,
   "metadata": {},
   "outputs": [],
   "source": [
    "reviews_sample = pd.read_csv('data/reviews_sample.csv', index_col=0)  # иначе первый столбец unnamed\n",
    "recipes_sample = pd.read_csv('data/recipes_sample.csv', usecols=['id', 'name', 'minutes', 'submitted', 'description', 'n_ingredients'])"
   ]
  },
  {
   "cell_type": "code",
   "execution_count": 59,
   "metadata": {},
   "outputs": [
    {
     "name": "stdout",
     "output_type": "stream",
     "text": [
      "           user_id  recipe_id        date  rating  \\\n",
      "370476       21752      57993  2003-05-01       5   \n",
      "624300      431813     142201  2007-09-16       5   \n",
      "187037      400708     252013  2008-01-10       4   \n",
      "706134  2001852463     404716  2017-12-11       5   \n",
      "312179       95810     129396  2008-03-14       5   \n",
      "\n",
      "                                                   review  \n",
      "370476  Last week whole sides of frozen salmon fillet ...  \n",
      "624300  So simple and so tasty!  I used a yellow capsi...  \n",
      "187037  Very nice breakfast HH, easy to make and yummy...  \n",
      "706134  These are a favorite for the holidays and so e...  \n",
      "312179  Excellent soup!  The tomato flavor is just gre...  \n",
      "                                       name     id  minutes   submitted  \\\n",
      "0     george s at the cove  black bean soup  44123       90  2002-10-25   \n",
      "1        healthy for them  yogurt popsicles  67664       10  2003-07-26   \n",
      "2              i can t believe it s spinach  38798       30  2002-08-29   \n",
      "3                      italian  gut busters  35173       45  2002-07-27   \n",
      "4  love is in the air  beef fondue   sauces  84797       25  2004-02-23   \n",
      "\n",
      "                                         description  n_ingredients  \n",
      "0  an original recipe created by chef scott meska...           18.0  \n",
      "1  my children and their friends ask for my homem...            NaN  \n",
      "2            these were so go, it surprised even me.            8.0  \n",
      "3  my sister-in-law made these for us at a family...            NaN  \n",
      "4  i think a fondue is a very romantic casual din...            NaN  \n"
     ]
    }
   ],
   "source": [
    "print(reviews_sample.head())\n",
    "print(recipes_sample.head())"
   ]
  },
  {
   "cell_type": "markdown",
   "metadata": {},
   "source": [
    "2. Случайным образом выберите 5% строк из каждой таблицы и сохраните две таблицы на разные листы в один файл `recipes.xlsx`. Дайте листам названия \"Рецепты\" и \"Отзывы\", соответствующие содержанию таблиц. "
   ]
  },
  {
   "cell_type": "code",
   "execution_count": 4,
   "metadata": {},
   "outputs": [],
   "source": [
    "import pandas as pd\n",
    "\n",
    "# Загрузка данных из файлов\n",
    "reviews_sample = pd.read_csv('reviews_sample.csv', index_col=0)\n",
    "recipes_sample = pd.read_csv('recipes_sample.csv', usecols=['id', 'name', 'minutes', 'submitted', 'description', 'n_ingredients'], index_col=0)\n",
    "\n",
    "# Случайный выбор 5% строк из каждой таблицы\n",
    "reviews_5per = reviews_sample.sample(frac=0.05, random_state=1)\n",
    "recipes_5per = recipes_sample.sample(frac=0.05, random_state=1)\n",
    "\n",
    "# Создание Excel-файла и запись двух таблиц на разные листы\n",
    "with pd.ExcelWriter('recipes.xlsx') as writer:\n",
    "    reviews_5per.to_excel(writer, sheet_name='Рецепты')\n",
    "    recipes_5per.to_excel(writer, sheet_name='Отзывы')"
   ]
  },
  {
   "cell_type": "code",
   "execution_count": 7,
   "metadata": {},
   "outputs": [],
   "source": [
    "import xlwings as xw\n",
    "\n",
    "\n",
    "# Cлучайным образом выберите 5% строк\n",
    "reviews_5per = reviews_sample.sample(frac=0.05, random_state=1)  # random_state - Optional, specifies the seed of the random generator used\n",
    "recipes_5per = recipes_sample.sample(frac=0.05, random_state=1)  \n",
    "\n",
    "# Создание нового Excel-файла\n",
    "wb = xw.Book()\n",
    "sht1 = wb.sheets.add('Отзывы')\n",
    "sht2 = wb.sheets.add('Рецепты')\n",
    "\n",
    "# Запись данных на листы\n",
    "sht1.range('A1').value = reviews_5per\n",
    "sht2.range('A1').value = recipes_5per\n",
    "\n",
    "# Сохранение файла\n",
    "wb.save('recipes_2.xlsx')\n",
    "#wb.close()"
   ]
  },
  {
   "cell_type": "markdown",
   "metadata": {},
   "source": [
    "3. Используя `xlwings`, добавьте на лист `Рецепты` столбец `seconds_assign`, показывающий время выполнения рецепта в секундах. Выполните задание при помощи присваивания массива значений диапазону ячеек."
   ]
  },
  {
   "cell_type": "code",
   "execution_count": 19,
   "metadata": {},
   "outputs": [],
   "source": [
    "# Открываем файл Excel\n",
    "#wb = xw.Book('recipes_2.xlsx')\n",
    "\n",
    "# Выбираем лист \"Рецептура\"\n",
    "sht1 = wb.sheets['Рецепты']\n",
    "sht2 = wb.sheets['Отзывы']\n",
    "\n",
    "#берем значения из столбца minutes и передаем в новый столбец\n",
    "sht1.range('G2').options(transpose=True).value = [float(val)*60 for val in sht1.range('C2').expand('down').value]\n",
    "sht1.range('G1').value = 'seconds_assign'\n"
   ]
  },
  {
   "cell_type": "markdown",
   "metadata": {},
   "source": [
    "4. Используя `xlwings`, добавьте на лист `Рецепты` столбец `seconds_formula`, показывающий время выполнения рецепта в секундах. Выполните задание при помощи формул Excel."
   ]
  },
  {
   "cell_type": "code",
   "execution_count": 20,
   "metadata": {},
   "outputs": [],
   "source": [
    "# Выбираем лист 'Рецепты'\n",
    "sheet = wb.sheets['Рецепты']\n",
    "\n",
    "# Добавляем заголовок для нового столбца\n",
    "sheet.range('H1').value = 'seconds_formula'\n",
    "sheet.range('H1').color = (0,255,0)\n",
    "\n",
    "# находим номер последней строки (начинаем с 1)\n",
    "#last_row = sheet.range('C' + str(sheet.cells.last_cell.row)).end('up').row\n",
    "last_row = len(sheet.range('C1').expand('down').value)\n",
    "\n",
    "# Напишем формулу для каждой строки столбца seconds_formula\n",
    "for i in range(2, last_row+1):  # добавим 1 т.к. [  ;  )\n",
    "    sheet.range('H'+str(i)).formula = '=C'+str(i)+'*60'  \n"
   ]
  },
  {
   "cell_type": "markdown",
   "metadata": {},
   "source": [
    "5. Сделайте названия всех добавленных столбцов полужирными и выровняйте по центру ячейки."
   ]
  },
  {
   "cell_type": "code",
   "execution_count": 24,
   "metadata": {},
   "outputs": [],
   "source": [
    "sheet.range('G1:H1').api.Font.Bold = True  # Делаем текст полужирным\n",
    "sheet.range('G1:H1').api.HorizontalAlignment = xw.constants.HAlign.xlHAlignCenter  # Выравниваем по центру\n",
    "sheet.range('G1:H1').column_width = 20  # изменим ширину ячейки для красоты"
   ]
  },
  {
   "cell_type": "markdown",
   "metadata": {},
   "source": [
    "6. Раскрасьте ячейки столбца `minutes` в соответствии со следующим правилом: если рецепт выполняется быстрее 5 минут, то цвет - зеленый; от 5 до 10 минут - жёлтый; и больше 10 - красный."
   ]
  },
  {
   "cell_type": "code",
   "execution_count": 27,
   "metadata": {},
   "outputs": [],
   "source": [
    "# находим номер последней строки (начинаем с 1)\n",
    "last_row = len(sheet.range('C1').expand('down').value)\n",
    "\n",
    "# Напишем формулу для каждой строки столбца seconds_formula\n",
    "for i in range(2, last_row+1):  # добавим 1 т.к. [  ;  )\n",
    "    cell_val = int(sheet.range('C'+str(i)).value)\n",
    "    \n",
    "    if cell_val <= 5:\n",
    "        sheet.range('C'+str(i)).color = (0,255,0)\n",
    "    elif 5 < cell_val <= 10:\n",
    "        sheet.range('C'+str(i)).color = (255,255,0)\n",
    "    else:\n",
    "        sheet.range('C'+str(i)).color = (255,0,0)"
   ]
  },
  {
   "attachments": {
    "image.png": {
     "image/png": "[encoded data removed]"
    }
   },
   "cell_type": "markdown",
   "metadata": {},
   "source": [
    "7. Добавьте на лист `Рецепты`  столбец `n_reviews`, содержащий кол-во отзывов для этого рецепта. Выполните задание при помощи формул Excel.\n",
    "![image.png](attachment:image.png)"
   ]
  },
  {
   "cell_type": "code",
   "execution_count": 36,
   "metadata": {},
   "outputs": [],
   "source": [
    "wb = xw.Book('recipes_2.xlsx')\n",
    "sheet = wb.sheets['Рецепты']\n",
    "\n",
    "# Определяем количество строк в столбце с отзывами\n",
    "numrows = len(sheet.range('B1').expand('down').value)\n",
    "\n",
    "# Добавляем заголовок для столбца n_reviews\n",
    "sheet.range('I1').value = 'n_reviews'\n",
    "\n",
    "# Создаем формулу для расчета количества отзывов для каждого рецепта\n",
    "for i in range(2, numrows + 1):\n",
    "    sheet.range(f'I{i}').formula = f'=COUNTIF(Отзывы!C:C, B{i})'"
   ]
  },
  {
   "cell_type": "markdown",
   "metadata": {},
   "source": [
    "## Лабораторная работа 7.2"
   ]
  },
  {
   "cell_type": "markdown",
   "metadata": {},
   "source": [
    "8. Напишите функцию `validate()`, которая проверяет соответствие всех строк из листа `Отзывы` следующим правилам:\n",
    "    * Рейтинг - это число от 0 до 5 включительно\n",
    "    * Соответствующий рецепт имеется на листе `Рецепты`\n",
    "    \n",
    "В случае несоответствия этим правилам, выделите строку красным цветом"
   ]
  },
  {
   "cell_type": "code",
   "execution_count": null,
   "metadata": {},
   "outputs": [],
   "source": []
  },
  {
   "cell_type": "markdown",
   "metadata": {},
   "source": [
    "9. В файле `recipes_model.csv` находится модель данных предметной области \"рецепты\". При помощи пакета `csv` считайте эти данные. При помощи пакета `xlwings` запишите данные на лист `Модель` книги `recipes_model.xlsx`, начиная с ячейки `A2`, не используя циклы. Сделайте скриншот текущего состояния листа и прикрепите в ячейку ноутбука. "
   ]
  },
  {
   "cell_type": "code",
   "execution_count": null,
   "metadata": {},
   "outputs": [],
   "source": []
  },
  {
   "cell_type": "markdown",
   "metadata": {},
   "source": [
    "10. При помощи пакета `xlwings` добавьте в столбец J формулу для описания столбца на языке SQL. Формула должна реализовывать следующую логику:\n",
    "\n",
    "    1\\. в начале строки идут значения из столбцов В и C (значение столбца С приведено к верхнему регистру), разделенные пробелом\n",
    "    \n",
    "    2\\. далее идут слова на основе столбца \"Ключ\"\n",
    "        2.1 если в столбце \"Ключ\" указано значение \"PK\", то дальше через пробел идет ключевое слово \"PRIMARY KEY\"\n",
    "        2.2 если в столбце \"Ключ\" указано значение \"FK\", то дальше через пробел идет ключевое слово \"REFERENCES\", затем значения столбцов H и I в формате \"название_таблицы(название_столбца)\"\n",
    "        \n",
    "    3\\. если в столбце \"Обязательно к заполнению\" указано значение \"Y\" и в столбце \"Ключ\" указано не \"PK\", то дальше через пробел идет ключевое слово \"NOT NULL\".\n",
    "\n",
    "Заполните этой формулой необходимое количество строк, используя \"протягивание\". Количество строк для протягивания определите на основе данных.\n",
    "\n",
    "Сделайте скриншот текущего состояния листа и прикрепите в ячейку ноутбука."
   ]
  },
  {
   "cell_type": "code",
   "execution_count": null,
   "metadata": {},
   "outputs": [],
   "source": []
  },
  {
   "cell_type": "markdown",
   "metadata": {},
   "source": [
    "11. При помощи пакета `xlwings` измените стилизацию листа `Модель`.\n",
    "* для заголовков добавьте заливку цвета `00ccff`\n",
    "* примените автоподбор ширины столбца;\n",
    "* сделайте шрифт заголовков полужирным;\n",
    "* добавьте таблице автофильтр.\n",
    "\n",
    "Сделайте скриншот текущего состояния листа и прикрепите в ячейку ноутбука."
   ]
  },
  {
   "cell_type": "code",
   "execution_count": null,
   "metadata": {},
   "outputs": [],
   "source": []
  },
  {
   "cell_type": "markdown",
   "metadata": {},
   "source": [
    "12. Посчитайте количество атрибутов для каждой из сущностей. Создайте лист `Статистика` и запишите в него результат группировки, начиная с ячейки \"А1\". Визуализируйте полученный результат при помощи столбчатой диаграммы. Сохраните полученную визуализацию на лист `Статистика`, начиная с ячейки \"E2\".  Сделайте скриншот листа `Статистика` и прикрепите в ячейку ноутбука.\n",
    "\n",
    "* Вы можете воспользоваться методами для визуализации, которые поставляются вместе с объектами `pandas` (см. https://pandas.pydata.org/docs/reference/api/pandas.DataFrame.plot) "
   ]
  },
  {
   "cell_type": "code",
   "execution_count": null,
   "metadata": {},
   "outputs": [],
   "source": []
  }
 ],
 "metadata": {
  "kernelspec": {
   "display_name": "Python 3 (ipykernel)",
   "language": "python",
   "name": "python3"
  },
  "language_info": {
   "codemirror_mode": {
    "name": "ipython",
    "version": 3
   },
   "file_extension": ".py",
   "mimetype": "text/x-python",
   "name": "python",
   "nbconvert_exporter": "python",
   "pygments_lexer": "ipython3",
   "version": "3.11.5"
  }
 },
 "nbformat": 4,
 "nbformat_minor": 4
}
